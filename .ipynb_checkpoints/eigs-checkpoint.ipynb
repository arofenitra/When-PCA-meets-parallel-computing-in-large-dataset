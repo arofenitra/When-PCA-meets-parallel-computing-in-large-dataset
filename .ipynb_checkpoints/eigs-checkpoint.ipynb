{
 "cells": [
  {
   "cell_type": "code",
   "execution_count": null,
   "id": "2aadd930",
   "metadata": {},
   "outputs": [
    {
     "ename": "",
     "evalue": "",
     "output_type": "error",
     "traceback": [
      "\u001b[1;31mRunning cells with 'Python 3.8.10' requires the ipykernel package.\n",
      "\u001b[1;31mInstall 'ipykernel' into the Python environment. \n",
      "\u001b[1;31mCommand: '/usr/bin/python3 -m pip install ipykernel -U --user --force-reinstall'"
     ]
    }
   ],
   "source": [
    "import numpy as np\n",
    "\n",
    "def power_iteration(matrix, num_iterations=1000):\n",
    "    n, m = matrix.shape\n",
    "    v = np.random.rand(m).reshape(m,1)\n",
    "    for i in range(num_iterations):\n",
    "        print(f\"iter {i}: Shape of matrix: {matrix.shape}\\nShape of v {v.shape}\")\n",
    "        \n",
    "        v = np.dot(matrix, v)\n",
    "        v = v / np.linalg.norm(v)\n",
    "        \n",
    "    print(f\"Finished\")\n",
    "    eigenvalue = np.dot(np.dot(v.T, matrix), v)\n",
    "    eigenvector = v\n",
    "    return eigenvalue, eigenvector\n",
    "\n",
    "def svd_from_scratch(A):\n",
    "    # Compute A^T A and AA^T\n",
    "    ATA = np.dot(A.T, A)\n",
    "    AAT = np.dot(A, A.T)\n",
    "\n",
    "    # Find eigenvalues and eigenvectors of A^T A\n",
    "    _, v = power_iteration(ATA)\n",
    "\n",
    "    # Compute singular values and U\n",
    "    s = np.sqrt(np.dot(np.dot(v.T, ATA), v))\n",
    "    u = np.dot(A, v) / s\n",
    "\n",
    "    # Form the matrices\n",
    "\n",
    "    Sigma = np.diag(s)\n",
    "    U = u.reshape(-1, 1)\n",
    "    V = v.reshape(-1, 1)l\n",
    "\n",
    "    return U, Sigma, V\n",
    "\n",
    "def eigendecomposition_from_scratch(A):\n",
    "    # Find eigenvalues and eigenvectors\n",
    "    eigenvalue, eigenvector = power_iteration(A)\n",
    "\n",
    "    # Form the matrices\n",
    "    Lambda = np.diag([eigenvalue])\n",
    "    Q = eigenvector.reshape(-1, 1)\n",
    "\n",
    "    return Q, Lambda\n",
    "\n",
    "# Example usage\n",
    "A = np.array([[3, 4, 5], [1, 2, 3]])\n",
    "U, Sigma, V = svd_from_scratch(A)\n",
    "Q, Lambda = eigendecomposition_from_scratch(A)\n",
    "\n",
    "print(\"SVD:\")\n",
    "print(\"U:\", U)\n",
    "print(\"Sigma:\", Sigma)\n",
    "print(\"V:\", V)\n",
    "\n",
    "print(\"\\nEigendecomposition:\")\n",
    "print(\"Q:\", Q)\n",
    "print(\"Lambda:\", Lambda)\n"
   ]
  },
  {
   "cell_type": "code",
   "execution_count": null,
   "id": "aef71143",
   "metadata": {},
   "outputs": [],
   "source": []
  }
 ],
 "metadata": {
  "kernelspec": {
   "display_name": "Python 3",
   "language": "python",
   "name": "python3"
  },
  "language_info": {
   "codemirror_mode": {
    "name": "ipython",
    "version": 3
   },
   "file_extension": ".py",
   "mimetype": "text/x-python",
   "name": "python",
   "nbconvert_exporter": "python",
   "pygments_lexer": "ipython3",
   "version": "3.8.10"
  }
 },
 "nbformat": 4,
 "nbformat_minor": 5
}
